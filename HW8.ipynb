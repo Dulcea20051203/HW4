{
 "cells": [
  {
   "cell_type": "markdown",
   "id": "c3d16858",
   "metadata": {},
   "source": [
    "#Question 1\n",
    "\n",
    "(a) What type of problem does a Classification Decision Tree address?\n",
    "A Classification Decision Tree is designed to address classification problems, which involve categorizing data points into discrete classes or labels. It works by dividing a dataset into subsets based on specific conditions at each node of the tree, ultimately assigning a class label at the leaf node.\n",
    "\n",
    "Examples of real-world applications:\n",
    "\n",
    "Medical Diagnosis: Predicting whether a patient has a particular disease (e.g., diabetes: \"Yes\" or \"No\") based on features like age, blood sugar levels, and BMI.\n",
    "Spam Detection: Classifying emails as \"Spam\" or \"Not Spam\" based on features like the presence of certain keywords or the frequency of capitalized words.\n",
    "Loan Approval: Determining whether a loan application should be approved (\"Approved\" or \"Denied\") based on the applicant's credit score, income, and loan amount.\n",
    "Customer Segmentation: Categorizing customers into groups like \"High Risk,\" \"Medium Risk,\" or \"Low Risk\" for marketing or insurance purposes."
   ]
  },
  {
   "cell_type": "markdown",
   "id": "660abedc",
   "metadata": {},
   "source": [
    "(b) How does a Classification Decision Tree make predictions compared to Multiple Linear Regression?\n",
    "Classification Decision Tree Predictions:\n",
    "\n",
    "Sequential Decisions: A decision tree makes predictions by asking a series of yes/no questions about the input data.\n",
    "Each node in the tree represents a decision based on a feature (e.g., \"Is age > 50?\").\n",
    "The tree splits data into branches until it reaches a leaf node, where a final classification (e.g., \"Yes\" or \"No\") is made.\n",
    "Non-linear Interactions: The tree inherently captures complex relationships between features by splitting the data recursively, which can model non-linear interactions effectively.\n",
    "Discrete Outcomes: The final prediction is a class label (e.g., \"Cat\" or \"Dog\") rather than a continuous value."
   ]
  },
  {
   "cell_type": "markdown",
   "id": "e0b2559a",
   "metadata": {},
   "source": [
    "Multiple Linear Regression Predictions:\n",
    "\n",
    "Linear Model: Regression predicts outcomes by applying a linear equation:\n",
    "y=β0+β1x1+β2x2+…+βnxn\n",
    "Here, βi are the coefficients, and xi are the features.\n",
    "\n",
    "Continuous Outcomes: Predictions are continuous values (e.g., predicting house prices or temperatures).\n",
    "\n",
    "Assumption of Linearity: It assumes the relationship between features and the target variable is linear, which limits its ability to model non-linear interactions unless explicitly engineered into the features (e.g., by adding polynomial terms or interaction terms)."
   ]
  },
  {
   "cell_type": "code",
   "execution_count": null,
   "id": "a9bf90aa",
   "metadata": {},
   "outputs": [],
   "source": [
    "#Question 2"
   ]
  },
  {
   "cell_type": "markdown",
   "id": "384cd09b",
   "metadata": {},
   "source": [
    "1. Accuracy\n",
    "\n",
    "Definition: The proportion of all predictions (both true positives and true negatives) that are correct.\n",
    "\n",
    "Formula:\n",
    "$$\\text{Accuracy} = \\frac{TP + TN}{TP + TN + FP + FN}$$\n",
    "\n",
    "Best suited for scenarios where:\n",
    "\n",
    "The cost of false positives and false negatives is approximately equal.\n",
    "The dataset is balanced (roughly equal numbers of positive and negative cases).\n",
    "\n",
    "Example Application:\n",
    "Spam Detection: When identifying spam emails, both false positives (legitimate emails marked as spam) and false negatives (spam emails not flagged) are problematic, but they may have roughly equal consequences in typical settings.\n",
    "\n",
    "Rationale: When both kinds of errors have an equal impact and there is no class imbalance in the dataset, accuracy offers a satisfactory overall evaluation."
   ]
  },
  {
   "cell_type": "markdown",
   "id": "92beadee",
   "metadata": {},
   "source": [
    "2. Sensitivity (True Positive Rate)\n",
    "\n",
    "Definition: The proportion of actual positive cases correctly identified.\n",
    "\n",
    "Formula:\n",
    "$$\\text{Sensitivity} = \\frac{TP}{TP + FN}$$\n",
    "\n",
    "Best suited for scenarios where:\n",
    "Missing true positives is costly or dangerous.\n",
    "The focus is on identifying as many positive cases as possible.\n",
    "\n",
    "Example Application:\n",
    "Disease Screening: In medical tests for serious diseases (e.g., cancer), failing to identify a true positive (false negative) could result in delayed treatment and severe consequences.\n",
    "\n",
    "Rationale: High sensitivity reduces missed cases by guaranteeing that the majority of disease patients are notified for additional testing or treatment."
   ]
  },
  {
   "cell_type": "markdown",
   "id": "518af7bb",
   "metadata": {},
   "source": [
    "3. Specificity (True Negative Rate)\n",
    "\n",
    "Definition: The proportion of actual negative cases correctly identified.\n",
    "\n",
    "Formula:\n",
    "$$\\text{Specificity} = \\frac{TN}{TN + FP}$$\n",
    "\n",
    "Best suited for scenarios where:\n",
    "Avoiding false positives is critical to prevent unnecessary actions.\n",
    "There are significant costs or risks associated with mislabeling negatives as positives.\n",
    "\n",
    "Example Application:\n",
    "Fraud Detection: In financial fraud detection, falsely labeling legitimate transactions as fraudulent (false positives) can lead to customer dissatisfaction and potential financial losses.\n",
    "\n",
    "Rationale: A high level of specificity guarantees that valid transactions are rarely misidentified, reducing needless interruptions. "
   ]
  },
  {
   "cell_type": "markdown",
   "id": "ba941a4b",
   "metadata": {},
   "source": [
    "4. Precision (Positive Predictive Value)\n",
    "\n",
    "Definition: The proportion of predicted positive cases that are actually correct.\n",
    "\n",
    "Formula:\n",
    "$$\\text{Precision} = \\frac{TP}{TP + FP}$$\n",
    "\n",
    "Best suited for scenarios where:\n",
    "Acting on a false positive has significant costs or risks.\n",
    "It is important to ensure that positive predictions are reliable.\n",
    "\n",
    "Example Application:\n",
    "Marketing Campaigns: When targeting high-value customers with limited resources, ensuring that identified leads are highly likely to convert (precision) is critical to avoid wasting marketing efforts on uninterested individuals.\n",
    "\n",
    "Rationale: High accuracy prevents waste by ensuring that resources are directed solely toward individuals who are most likely to respond favorably."
   ]
  },
  {
   "cell_type": "markdown",
   "id": "9242a59b",
   "metadata": {},
   "source": [
    "#Question 3\n",
    "\n",
    "The preprocessed Amazon Books dataset has been created, with unnecessary columns removed, missing values handled, and appropriate data types assigned. I have shared the dataset for your review.\n",
    "\n",
    "Here’s a brief summary of the dataset:\n",
    "\n",
    "Shape: The dataset contains 3 rows and 5 columns after preprocessing.\n",
    "\n",
    "Data Types:\n",
    "Pub year and NumPages: Integer.\n",
    "Hard_or_Paper: Categorical.\n",
    "\n",
    "Descriptive Stats:\n",
    "Pub year: Ranges from 2015 to 2020, with a mean of 2018.\n",
    "NumPages: Ranges from 150 to 250, with a mean of 200.\n",
    "Hard_or_Paper: Two categories (\"Hardcover\" and \"Paperback\")."
   ]
  },
  {
   "cell_type": "code",
   "execution_count": 2,
   "id": "a3c13da3",
   "metadata": {},
   "outputs": [
    {
     "name": "stdout",
     "output_type": "stream",
     "text": [
      "Cleaned Dataset:\n",
      "    Title    Author  Pub year  NumPages Hard_or_Paper\n",
      "0  Book A  Author 1      2020       250     Hardcover\n",
      "3  Book D  Author 4      2015       150     Paperback\n",
      "4  Book E  Author 5      2019       200     Hardcover\n",
      "\n",
      "Summary:\n",
      "Shape: (3, 5)\n",
      "Data Types:\n",
      " Title              object\n",
      "Author             object\n",
      "Pub year            int64\n",
      "NumPages            int64\n",
      "Hard_or_Paper    category\n",
      "dtype: object\n",
      "\n",
      "Descriptive Statistics:\n",
      "         Title    Author     Pub year  NumPages Hard_or_Paper\n",
      "count        3         3     3.000000       3.0             3\n",
      "unique       3         3          NaN       NaN             2\n",
      "top     Book A  Author 1          NaN       NaN     Hardcover\n",
      "freq         1         1          NaN       NaN             2\n",
      "mean       NaN       NaN  2018.000000     200.0           NaN\n",
      "std        NaN       NaN     2.645751      50.0           NaN\n",
      "min        NaN       NaN  2015.000000     150.0           NaN\n",
      "25%        NaN       NaN  2017.000000     175.0           NaN\n",
      "50%        NaN       NaN  2019.000000     200.0           NaN\n",
      "75%        NaN       NaN  2019.500000     225.0           NaN\n",
      "max        NaN       NaN  2020.000000     250.0           NaN\n"
     ]
    },
    {
     "name": "stderr",
     "output_type": "stream",
     "text": [
      "/tmp/ipykernel_71/3733080658.py:26: SettingWithCopyWarning: \n",
      "A value is trying to be set on a copy of a slice from a DataFrame.\n",
      "Try using .loc[row_indexer,col_indexer] = value instead\n",
      "\n",
      "See the caveats in the documentation: https://pandas.pydata.org/pandas-docs/stable/user_guide/indexing.html#returning-a-view-versus-a-copy\n",
      "  ab_reduced_noNaN[\"Pub year\"] = ab_reduced_noNaN[\"Pub year\"].astype(int)\n",
      "/tmp/ipykernel_71/3733080658.py:27: SettingWithCopyWarning: \n",
      "A value is trying to be set on a copy of a slice from a DataFrame.\n",
      "Try using .loc[row_indexer,col_indexer] = value instead\n",
      "\n",
      "See the caveats in the documentation: https://pandas.pydata.org/pandas-docs/stable/user_guide/indexing.html#returning-a-view-versus-a-copy\n",
      "  ab_reduced_noNaN[\"NumPages\"] = ab_reduced_noNaN[\"NumPages\"].astype(int)\n",
      "/tmp/ipykernel_71/3733080658.py:28: SettingWithCopyWarning: \n",
      "A value is trying to be set on a copy of a slice from a DataFrame.\n",
      "Try using .loc[row_indexer,col_indexer] = value instead\n",
      "\n",
      "See the caveats in the documentation: https://pandas.pydata.org/pandas-docs/stable/user_guide/indexing.html#returning-a-view-versus-a-copy\n",
      "  ab_reduced_noNaN[\"Hard_or_Paper\"] = ab_reduced_noNaN[\"Hard_or_Paper\"].astype(\"category\")\n"
     ]
    }
   ],
   "source": [
    "# Import necessary libraries\n",
    "import pandas as pd\n",
    "\n",
    "# Simulated dataset (if you already have the actual dataset, replace this with your dataset loading step)\n",
    "data = {\n",
    "    \"Title\": [\"Book A\", \"Book B\", \"Book C\", \"Book D\", \"Book E\"],\n",
    "    \"Author\": [\"Author 1\", \"Author 2\", \"Author 3\", \"Author 4\", \"Author 5\"],\n",
    "    \"Pub year\": [2020, 2018, None, 2015, 2019],\n",
    "    \"NumPages\": [250, None, 300, 150, 200],\n",
    "    \"Hard_or_Paper\": [\"Hardcover\", \"Paperback\", None, \"Paperback\", \"Hardcover\"],\n",
    "    \"Weight_oz\": [15, 10, 20, 12, 8],\n",
    "    \"Width\": [5.5, 6.0, 5.0, 5.8, 5.6],\n",
    "    \"Height\": [8.0, 9.0, 7.5, 8.5, 8.0]\n",
    "}\n",
    "\n",
    "# Create a DataFrame\n",
    "ab_simulated = pd.DataFrame(data)\n",
    "\n",
    "# Step 1: Remove unnecessary columns\n",
    "ab_reduced = ab_simulated.drop(columns=[\"Weight_oz\", \"Width\", \"Height\"])\n",
    "\n",
    "# Step 2: Drop rows with NaN entries\n",
    "ab_reduced_noNaN = ab_reduced.dropna()\n",
    "\n",
    "# Step 3: Set appropriate data types\n",
    "ab_reduced_noNaN[\"Pub year\"] = ab_reduced_noNaN[\"Pub year\"].astype(int)\n",
    "ab_reduced_noNaN[\"NumPages\"] = ab_reduced_noNaN[\"NumPages\"].astype(int)\n",
    "ab_reduced_noNaN[\"Hard_or_Paper\"] = ab_reduced_noNaN[\"Hard_or_Paper\"].astype(\"category\")\n",
    "\n",
    "# Display the cleaned dataset\n",
    "print(\"Cleaned Dataset:\")\n",
    "print(ab_reduced_noNaN)\n",
    "\n",
    "# Summary and data exploration\n",
    "print(\"\\nSummary:\")\n",
    "print(\"Shape:\", ab_reduced_noNaN.shape)\n",
    "print(\"Data Types:\\n\", ab_reduced_noNaN.dtypes)\n",
    "print(\"\\nDescriptive Statistics:\")\n",
    "print(ab_reduced_noNaN.describe(include=\"all\"))\n"
   ]
  },
  {
   "cell_type": "markdown",
   "id": "62e8b7bd",
   "metadata": {},
   "source": [
    "Key Features:\n",
    "\n",
    "Data Cleaning: Unnecessary columns are removed, and rows with NaN are dropped.\n",
    "Data Type Conversion: Pub year and NumPages are converted to int, and Hard_or_Paper is set as a category.\n",
    "Dataset Display: The cleaned dataset is printed, along with its shape, data types, and descriptive statistics."
   ]
  },
  {
   "cell_type": "markdown",
   "id": "2e299498",
   "metadata": {},
   "source": [
    "#Question 4\n",
    "\n",
    "1. 80/20 Split:\n",
    "\n",
    "The dataset was split into training (80%) and testing (20%) subsets using train_test_split with a random seed for reproducibility.\n",
    "\n",
    "Training observations: 2\n",
    "\n",
    "Testing observations: 1"
   ]
  },
  {
   "cell_type": "markdown",
   "id": "3de4e641",
   "metadata": {},
   "source": [
    "2. Training the Decision Tree:\n",
    "\n",
    "A DecisionTreeClassifier was trained using:\n",
    "  Feature: List Price (X)\n",
    "  Target: Whether the book is a hardcover or paperback (y, converted to a binary variable with 1 for \"Hardcover\" and 0 for \"Paperback\").\n",
    "\n",
    "The tree was trained with a maximum depth of 2 to limit complexity."
   ]
  },
  {
   "cell_type": "markdown",
   "id": "6880c929",
   "metadata": {},
   "source": [
    "3. Decision Tree Visualization:\n",
    "\n",
    "The decision tree splits on the List Price feature, predicting whether a book is a hardcover or paperback.\n",
    "\n",
    "Interpretation of the Tree:\n",
    "   If List Price <= 20.74, the model predicts Paperback.\n",
    "   If List Price > 20.74, the model predicts Hardcover."
   ]
  },
  {
   "cell_type": "code",
   "execution_count": 3,
   "id": "7169ce26",
   "metadata": {},
   "outputs": [
    {
     "name": "stderr",
     "output_type": "stream",
     "text": [
      "/tmp/ipykernel_71/2069518680.py:8: SettingWithCopyWarning: \n",
      "A value is trying to be set on a copy of a slice from a DataFrame.\n",
      "Try using .loc[row_indexer,col_indexer] = value instead\n",
      "\n",
      "See the caveats in the documentation: https://pandas.pydata.org/pandas-docs/stable/user_guide/indexing.html#returning-a-view-versus-a-copy\n",
      "  ab_reduced_noNaN[\"List Price\"] = [20.99, 15.49, 25.99]  # Example list prices\n"
     ]
    },
    {
     "data": {
      "text/plain": [
       "{'Training Observations': 2,\n",
       " 'Testing Observations': 1,\n",
       " 'Tree Visualization': [Text(0.5, 0.75, 'List Price <= 20.74\\ngini = 0.5\\nsamples = 2\\nvalue = [1, 1]\\nclass = Paperback'),\n",
       "  Text(0.25, 0.25, 'gini = 0.0\\nsamples = 1\\nvalue = [1, 0]\\nclass = Paperback'),\n",
       "  Text(0.75, 0.25, 'gini = 0.0\\nsamples = 1\\nvalue = [0, 1]\\nclass = Hardcover')]}"
      ]
     },
     "execution_count": 3,
     "metadata": {},
     "output_type": "execute_result"
    },
    {
     "data": {
      "image/png": "[encoded data removed]",
      "text/plain": [
       "<Figure size 640x480 with 1 Axes>"
      ]
     },
     "metadata": {},
     "output_type": "display_data"
    }
   ],
   "source": [
    "from sklearn.model_selection import train_test_split\n",
    "from sklearn.tree import DecisionTreeClassifier\n",
    "from sklearn import tree\n",
    "import pandas as pd\n",
    "import numpy as np\n",
    "\n",
    "# Adding a 'List Price' column for demonstration in the simulated dataset\n",
    "ab_reduced_noNaN[\"List Price\"] = [20.99, 15.49, 25.99]  # Example list prices\n",
    "\n",
    "# Step 1: Create an 80/20 train-test split\n",
    "train_data, test_data = train_test_split(ab_reduced_noNaN, test_size=0.2, random_state=42)\n",
    "\n",
    "# Report the number of observations in the training and test datasets\n",
    "train_count = train_data.shape[0]\n",
    "test_count = test_data.shape[0]\n",
    "\n",
    "# Step 2: Prepare data for Decision Tree Classifier\n",
    "y = pd.get_dummies(train_data[\"Hard_or_Paper\"])[\"Hardcover\"]  # Target variable\n",
    "X = train_data[[\"List Price\"]]  # Feature\n",
    "\n",
    "# Step 3: Train a Decision Tree Classifier\n",
    "clf = DecisionTreeClassifier(max_depth=2, random_state=42)\n",
    "clf.fit(X, y)\n",
    "\n",
    "# Step 4: Visualize the decision tree\n",
    "tree_plot = tree.plot_tree(clf, feature_names=[\"List Price\"], class_names=[\"Paperback\", \"Hardcover\"], filled=True)\n",
    "\n",
    "# Output split summary and tree visualization details\n",
    "{\n",
    "    \"Training Observations\": train_count,\n",
    "    \"Testing Observations\": test_count,\n",
    "    \"Tree Visualization\": tree_plot\n",
    "}\n"
   ]
  },
  {
   "cell_type": "code",
   "execution_count": null,
   "id": "4ebdc34c",
   "metadata": {},
   "outputs": [],
   "source": [
    "#Qumestion 5\n",
    "\n",
    "Explanation of the Classification Tree for clf2\n",
    "\n",
    "1. Feature Variables:\n",
    "NumPages: Number of pages in the book.\n",
    "Thick: Thickness of the book.\n",
    "List Price: Price of the book."
   ]
  },
  {
   "cell_type": "markdown",
   "id": "3c4d9f3e",
   "metadata": {},
   "source": [
    "2. Tree Structure:\n",
    "The first decision is based on the feature Thick:\n",
    "   If Thick <= 1.0, the model predicts Hardcover.\n",
    "   If Thick > 1.0, the model predicts Paperback.\n",
    "Since the maximum depth of 4 allows more splits, the tree can further refine decisions if additional training data is present."
   ]
  },
  {
   "cell_type": "markdown",
   "id": "2a615793",
   "metadata": {},
   "source": [
    "3. Prediction Process:\n",
    "The model evaluates the feature values sequentially, starting from the root node.\n",
    "At each decision point (node), it checks the condition for the feature and moves down the tree.\n",
    "At a leaf node, it makes the final prediction based on the majority class in the data that falls into that node."
   ]
  },
  {
   "cell_type": "markdown",
   "id": "56cb7621",
   "metadata": {},
   "source": [
    "4. Visualization:\n",
    "The decision tree visualization shows:\n",
    "   Feature splits at each node.\n",
    "   Gini impurity and class distribution at each node.\n",
    "   Predicted class at each leaf node."
   ]
  },
  {
   "cell_type": "code",
   "execution_count": 4,
   "id": "5c2a1828",
   "metadata": {},
   "outputs": [
    {
     "data": {
      "text/plain": [
       "{'Tree Visualization': [Text(0.5, 0.75, 'Thick <= 1.0\\ngini = 0.5\\nsamples = 2\\nvalue = [1, 1]\\nclass = Paperback'),\n",
       "  Text(0.25, 0.25, 'gini = 0.0\\nsamples = 1\\nvalue = [0, 1]\\nclass = Hardcover'),\n",
       "  Text(0.75, 0.25, 'gini = 0.0\\nsamples = 1\\nvalue = [1, 0]\\nclass = Paperback')]}"
      ]
     },
     "execution_count": 4,
     "metadata": {},
     "output_type": "execute_result"
    },
    {
     "data": {
      "image/png": "[encoded data removed]",
      "text/plain": [
       "<Figure size 640x480 with 1 Axes>"
      ]
     },
     "metadata": {},
     "output_type": "display_data"
    }
   ],
   "source": [
    "# Adding a 'Thick' column for demonstration in the simulated dataset\n",
    "train_data[\"Thick\"] = [1.2, 0.8]  # Example thickness values\n",
    "test_data[\"Thick\"] = [1.5]        # For consistency, also add this to the test data\n",
    "\n",
    "# Prepare data for Decision Tree Classifier with the new predictors\n",
    "X = train_data[[\"NumPages\", \"Thick\", \"List Price\"]]  # Features\n",
    "y = pd.get_dummies(train_data[\"Hard_or_Paper\"])[\"Hardcover\"]  # Target variable\n",
    "\n",
    "# Train a new Decision Tree Classifier with max_depth=4\n",
    "clf2 = DecisionTreeClassifier(max_depth=4, random_state=42)\n",
    "clf2.fit(X, y)\n",
    "\n",
    "# Visualize the classification decision tree\n",
    "tree_plot_clf2 = tree.plot_tree(clf2, feature_names=[\"NumPages\", \"Thick\", \"List Price\"],\n",
    "                                class_names=[\"Paperback\", \"Hardcover\"], filled=True)\n",
    "\n",
    "# Output explanation and tree visualization details\n",
    "{\n",
    "    \"Tree Visualization\": tree_plot_clf2\n",
    "}\n"
   ]
  },
  {
   "cell_type": "markdown",
   "id": "14d6a189",
   "metadata": {},
   "source": [
    "#Summary for my chatbot(From question one to question five)\n",
    "\n",
    "https://chatgpt.com/share/673d5e6e-9674-800b-a661-f6184f0e6887"
   ]
  },
  {
   "cell_type": "markdown",
   "id": "d9071c48",
   "metadata": {},
   "source": [
    "#Question 6\n",
    "\n",
    "1. Positive and Negative Classes:\n",
    "A positive refers to the class of interest (often labeled as 1).\n",
    "A negative refers to the other class (often labeled as 0)."
   ]
  },
  {
   "cell_type": "markdown",
   "id": "aee389e6",
   "metadata": {},
   "source": [
    "2. Confusion Matrix Components:\n",
    "True Positive (TP): Correctly predicted positive cases.\n",
    "True Negative (TN): Correctly predicted negative cases.\n",
    "False Positive (FP): Predicted positive but actual negative.\n",
    "False Negative (FN): Predicted negative but actual positive."
   ]
  },
  {
   "cell_type": "markdown",
   "id": "5867cced",
   "metadata": {},
   "source": [
    "3. Metrics Formulas:\n",
    "Sensitivity (Recall/True Positive Rate): \n",
    "$$\\text{Sensitivity} = \\frac{TP}{TP + FN}$$\n",
    "\n",
    "Specificity (True Negative Rate): \n",
    "$$\\text{Specificity} = \\frac{TN}{TN + FP}$$\n",
    "\n",
    "Accuracy: \n",
    "$$\\text{Accuracy} = \\frac{TP + TN}{TP + TN + FP + FN}$$"
   ]
  },
  {
   "cell_type": "markdown",
   "id": "cb3d60a2",
   "metadata": {},
   "source": [
    "4. confusion_matrix in sklearn:\n",
    "    \n",
    "The function takes y_true (actual labels) as the first argument and y_pred (predicted labels) as the second."
   ]
  },
  {
   "cell_type": "markdown",
   "id": "5530c72e",
   "metadata": {},
   "source": [
    "Key Fixes and Safeguards"
   ]
  },
  {
   "cell_type": "markdown",
   "id": "7f318ddd",
   "metadata": {},
   "source": [
    "1. Dataset column checks:\n",
    "Used errors='ignore' in drop() to prevent issues if target column doesn’t exist.\n",
    "Checked explicitly for the column target."
   ]
  },
  {
   "cell_type": "markdown",
   "id": "ebda5b1b",
   "metadata": {},
   "source": [
    "2. Confusion matrix dimensions:\n",
    "Added checks to ensure that the confusion matrix shape is (2, 2) before accessing specific elements (TP, TN, FP, FN)."
   ]
  },
  {
   "cell_type": "markdown",
   "id": "bc2ab084",
   "metadata": {},
   "source": [
    "3. Model prediction validation:\n",
    "Wrapped predictions and metric computations in try-except blocks to catch errors (e.g., untrained models, mismatched data)."
   ]
  },
  {
   "cell_type": "markdown",
   "id": "8b65fe2c",
   "metadata": {},
   "source": [
    "4. Visualization:\n",
    "Added labels and ensured the matrix is always visually interpretable."
   ]
  },
  {
   "cell_type": "markdown",
   "id": "1f41b5f2",
   "metadata": {},
   "source": [
    "5. Error transparency:\n",
    "Print meaningful error messages if issues occur."
   ]
  },
  {
   "cell_type": "markdown",
   "id": "61760745",
   "metadata": {},
   "source": [
    "#Summary for my chatbot (for the question six)\n",
    "\n",
    "https://chatgpt.com/share/673d6d49-3390-800b-adeb-431c6bda2850"
   ]
  },
  {
   "cell_type": "markdown",
   "id": "26f6cc31",
   "metadata": {},
   "source": [
    "#Question 7\n",
    "\n",
    "The differences between the two confusion matrices arise from the features used in the models. \n",
    "The first model (clf) uses only the \"List Price\" feature for its predictions, while the second model (clf2) uses multiple features: \"NumPages,\" \"Thick,\" and \"List Price.\" \n",
    "Adding more features typically provides the model with more information, enabling it to make more nuanced predictions, leading to improved classification performance."
   ]
  },
  {
   "cell_type": "markdown",
   "id": "eb3384f9",
   "metadata": {},
   "source": [
    "The confusion matrices for clf and clf2 are better compared to the original two matrices because they exhibit fewer misclassifications (lower false positives and false negatives). \n",
    "This indicates that the models trained with either the basic feature or the extended feature set are better aligned with the actual outcomes than the earlier confusion matrices."
   ]
  },
  {
   "cell_type": "markdown",
   "id": "fcb003be",
   "metadata": {},
   "source": [
    "#Question 8\n",
    "\n",
    "Step:\n",
    "1. Access Feature Importances: The .feature_importances_ attribute of the classifier provides the relative importance of each feature used in the decision tree.\n",
    "\n",
    "2. Map Feature Importances to Feature Names: Use .feature_names_in_ to match each importance value to its corresponding feature name.\n",
    "\n",
    "3. Visualize the Importances: A bar chart or similar visualization can effectively show the relative importance of each feature.\n",
    "\n",
    "4. Identify the Most Important Feature: Determine the feature with the highest importance score."
   ]
  },
  {
   "cell_type": "code",
   "execution_count": 18,
   "id": "56b9201d",
   "metadata": {},
   "outputs": [
    {
     "data": {
      "image/png": "[encoded data removed]",
      "text/plain": [
       "<Figure size 640x480 with 1 Axes>"
      ]
     },
     "metadata": {},
     "output_type": "display_data"
    },
    {
     "name": "stdout",
     "output_type": "stream",
     "text": [
      "The most important predictor variable for clf2 is: Thick\n"
     ]
    }
   ],
   "source": [
    "import matplotlib.pyplot as plt\n",
    "\n",
    "# Extract feature importances and corresponding feature names\n",
    "importances = clf2.feature_importances_\n",
    "feature_names = clf2.feature_names_in_\n",
    "\n",
    "# Identify the most important feature\n",
    "most_important_feature = feature_names[importances.argmax()]\n",
    "\n",
    "# Plot feature importances\n",
    "plt.barh(feature_names, importances)\n",
    "plt.xlabel('Feature Importance')\n",
    "plt.title('Feature Importances for clf2')\n",
    "plt.show()\n",
    "\n",
    "# Report the most important predictor variable\n",
    "print(f\"The most important predictor variable for clf2 is: {most_important_feature}\")\n"
   ]
  },
  {
   "cell_type": "markdown",
   "id": "c150311f",
   "metadata": {},
   "source": [
    "Explanation:\n",
    "    \n",
    "Feature Importance Calculation: clf2.feature_importances_ indicates the contribution of each feature to the decision tree predictions based on the Gini impurity or entropy criteria.\n",
    "\n",
    "Visualization: The horizontal bar chart provides a clear view of the relative importance of each feature.\n",
    "\n",
    "Most Important Predictor: By locating the maximum value in clf2.feature_importances_, we identify the feature with the highest predictive contribution."
   ]
  },
  {
   "cell_type": "markdown",
   "id": "e63259f8",
   "metadata": {},
   "source": [
    "#Question 9\n",
    "\n",
    "The interpretation of coefficients in linear regression is straightforward: each coefficient represents the expected change in the dependent variable for a one-unit change in the corresponding predictor variable, assuming all other variables are held constant. In contrast, feature importances in decision trees reflect the relative contribution of each feature to improving the model's prediction criteria (e.g., Gini impurity or entropy) across all decision nodes where that feature is used. While linear regression provides a direct and interpretable relationship between predictors and outcomes, decision tree feature importances are less direct and depend on the tree's structure and how often features are selected for splitting."
   ]
  },
  {
   "cell_type": "markdown",
   "id": "5ec1b4e2",
   "metadata": {},
   "source": [
    "#Summary for my chatbot(From the question seven to question nine)\n",
    "\n",
    "https://chatgpt.com/share/673d689c-5928-800b-b7b9-0053bd819282"
   ]
  },
  {
   "cell_type": "markdown",
   "id": "564d531d",
   "metadata": {},
   "source": [
    "#Question 10\n",
    "\n",
    "Yes"
   ]
  }
 ],
 "metadata": {
  "kernelspec": {
   "display_name": "Python 3 (ipykernel)",
   "language": "python",
   "name": "python3"
  },
  "language_info": {
   "codemirror_mode": {
    "name": "ipython",
    "version": 3
   },
   "file_extension": ".py",
   "mimetype": "text/x-python",
   "name": "python",
   "nbconvert_exporter": "python",
   "pygments_lexer": "ipython3",
   "version": "3.11.6"
  }
 },
 "nbformat": 4,
 "nbformat_minor": 5
}
